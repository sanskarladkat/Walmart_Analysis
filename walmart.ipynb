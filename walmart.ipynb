{
 "cells": [
  {
   "cell_type": "code",
   "execution_count": 69,
   "id": "edcc2e43",
   "metadata": {},
   "outputs": [],
   "source": [
    "# Importing the required libraries\n",
    "import pandas as pd\n",
    "import matplotlib.pyplot as plt\n",
    "import seaborn as sns"
   ]
  },
  {
   "cell_type": "code",
   "execution_count": 70,
   "id": "7d62383a",
   "metadata": {},
   "outputs": [
    {
     "data": {
      "application/vnd.microsoft.datawrangler.viewer.v0+json": {
       "columns": [
        {
         "name": "index",
         "rawType": "int64",
         "type": "integer"
        },
        {
         "name": "invoice_id",
         "rawType": "int64",
         "type": "integer"
        },
        {
         "name": "Branch",
         "rawType": "object",
         "type": "string"
        },
        {
         "name": "City",
         "rawType": "object",
         "type": "string"
        },
        {
         "name": "category",
         "rawType": "object",
         "type": "string"
        },
        {
         "name": "unit_price",
         "rawType": "object",
         "type": "string"
        },
        {
         "name": "quantity",
         "rawType": "float64",
         "type": "float"
        },
        {
         "name": "date",
         "rawType": "object",
         "type": "string"
        },
        {
         "name": "time",
         "rawType": "object",
         "type": "string"
        },
        {
         "name": "payment_method",
         "rawType": "object",
         "type": "string"
        },
        {
         "name": "rating",
         "rawType": "float64",
         "type": "float"
        },
        {
         "name": "profit_margin",
         "rawType": "float64",
         "type": "float"
        }
       ],
       "ref": "61b95fef-d9a8-4b2a-9d73-9777b9474569",
       "rows": [
        [
         "0",
         "1",
         "WALM003",
         "San Antonio",
         "Health and beauty",
         "$74.69",
         "7.0",
         "05/01/19",
         "13:08:00",
         "Ewallet",
         "9.1",
         "0.48"
        ],
        [
         "1",
         "2",
         "WALM048",
         "Harlingen",
         "Electronic accessories",
         "$15.28",
         "5.0",
         "08/03/19",
         "10:29:00",
         "Cash",
         "9.6",
         "0.48"
        ],
        [
         "2",
         "3",
         "WALM067",
         "Haltom City",
         "Home and lifestyle",
         "$46.33",
         "7.0",
         "03/03/19",
         "13:23:00",
         "Credit card",
         "7.4",
         "0.33"
        ],
        [
         "3",
         "4",
         "WALM064",
         "Bedford",
         "Health and beauty",
         "$58.22",
         "8.0",
         "27/01/19",
         "20:33:00",
         "Ewallet",
         "8.4",
         "0.33"
        ],
        [
         "4",
         "5",
         "WALM013",
         "Irving",
         "Sports and travel",
         "$86.31",
         "7.0",
         "08/02/19",
         "10:37:00",
         "Ewallet",
         "5.3",
         "0.48"
        ],
        [
         "5",
         "6",
         "WALM026",
         "Denton",
         "Electronic accessories",
         "$85.39",
         "7.0",
         "25/03/19",
         "18:30:00",
         "Ewallet",
         "4.1",
         "0.48"
        ],
        [
         "6",
         "7",
         "WALM088",
         "Cleburne",
         "Electronic accessories",
         "$68.84",
         "6.0",
         "25/02/19",
         "14:36:00",
         "Ewallet",
         "5.8",
         "0.33"
        ],
        [
         "7",
         "8",
         "WALM100",
         "Canyon",
         "Home and lifestyle",
         "$73.56",
         "10.0",
         "24/02/19",
         "11:38:00",
         "Ewallet",
         "8.0",
         "0.18"
        ],
        [
         "8",
         "9",
         "WALM066",
         "Grapevine",
         "Health and beauty",
         "$36.26",
         "2.0",
         "10/01/19",
         "17:15:00",
         "Credit card",
         "7.2",
         "0.33"
        ],
        [
         "9",
         "10",
         "WALM065",
         "Texas City",
         "Food and beverages",
         "$54.84",
         "3.0",
         "20/02/19",
         "13:27:00",
         "Credit card",
         "5.9",
         "0.33"
        ],
        [
         "10",
         "11",
         "WALM013",
         "Irving",
         "Fashion accessories",
         "$14.48",
         "4.0",
         "06/02/19",
         "18:07:00",
         "Ewallet",
         "4.5",
         "0.48"
        ],
        [
         "11",
         "12",
         "WALM035",
         "San Angelo",
         "Electronic accessories",
         "$25.51",
         "4.0",
         "09/03/19",
         "17:03:00",
         "Cash",
         "6.8",
         "0.48"
        ],
        [
         "12",
         "13",
         "WALM027",
         "Abilene",
         "Electronic accessories",
         "$46.95",
         "5.0",
         "12/02/19",
         "10:25:00",
         "Ewallet",
         "7.1",
         "0.48"
        ],
        [
         "13",
         "14",
         "WALM035",
         "San Angelo",
         "Food and beverages",
         "$43.19",
         "10.0",
         "07/02/19",
         "16:48:00",
         "Ewallet",
         "8.2",
         "0.48"
        ],
        [
         "14",
         "15",
         "WALM031",
         "Lewisville",
         "Health and beauty",
         "$71.38",
         "10.0",
         "29/03/19",
         "19:21:00",
         "Cash",
         "5.7",
         "0.48"
        ],
        [
         "15",
         "16",
         "WALM008",
         "Corpus Christi",
         "Sports and travel",
         "$93.72",
         "6.0",
         "15/01/19",
         "16:19:00",
         "Cash",
         "4.5",
         "0.48"
        ],
        [
         "16",
         "17",
         "WALM029",
         "Round Rock",
         "Health and beauty",
         "$68.93",
         "7.0",
         "11/03/19",
         "11:03:00",
         "Credit card",
         "4.6",
         "0.48"
        ],
        [
         "17",
         "18",
         "WALM061",
         "Cedar Park",
         "Sports and travel",
         "$72.61",
         "6.0",
         "01/01/19",
         "10:39:00",
         "Credit card",
         "6.9",
         "0.33"
        ],
        [
         "18",
         "19",
         "WALM053",
         "Conroe",
         "Food and beverages",
         "$54.67",
         "3.0",
         "21/01/19",
         "18:00:00",
         "Credit card",
         "8.6",
         "0.57"
        ],
        [
         "19",
         "20",
         "WALM013",
         "Irving",
         "Home and lifestyle",
         "$40.3",
         "2.0",
         "11/03/19",
         "15:30:00",
         "Ewallet",
         "4.4",
         "0.48"
        ]
       ],
       "shape": {
        "columns": 11,
        "rows": 20
       }
      },
      "text/html": [
       "<div>\n",
       "<style scoped>\n",
       "    .dataframe tbody tr th:only-of-type {\n",
       "        vertical-align: middle;\n",
       "    }\n",
       "\n",
       "    .dataframe tbody tr th {\n",
       "        vertical-align: top;\n",
       "    }\n",
       "\n",
       "    .dataframe thead th {\n",
       "        text-align: right;\n",
       "    }\n",
       "</style>\n",
       "<table border=\"1\" class=\"dataframe\">\n",
       "  <thead>\n",
       "    <tr style=\"text-align: right;\">\n",
       "      <th></th>\n",
       "      <th>invoice_id</th>\n",
       "      <th>Branch</th>\n",
       "      <th>City</th>\n",
       "      <th>category</th>\n",
       "      <th>unit_price</th>\n",
       "      <th>quantity</th>\n",
       "      <th>date</th>\n",
       "      <th>time</th>\n",
       "      <th>payment_method</th>\n",
       "      <th>rating</th>\n",
       "      <th>profit_margin</th>\n",
       "    </tr>\n",
       "  </thead>\n",
       "  <tbody>\n",
       "    <tr>\n",
       "      <th>0</th>\n",
       "      <td>1</td>\n",
       "      <td>WALM003</td>\n",
       "      <td>San Antonio</td>\n",
       "      <td>Health and beauty</td>\n",
       "      <td>$74.69</td>\n",
       "      <td>7.0</td>\n",
       "      <td>05/01/19</td>\n",
       "      <td>13:08:00</td>\n",
       "      <td>Ewallet</td>\n",
       "      <td>9.1</td>\n",
       "      <td>0.48</td>\n",
       "    </tr>\n",
       "    <tr>\n",
       "      <th>1</th>\n",
       "      <td>2</td>\n",
       "      <td>WALM048</td>\n",
       "      <td>Harlingen</td>\n",
       "      <td>Electronic accessories</td>\n",
       "      <td>$15.28</td>\n",
       "      <td>5.0</td>\n",
       "      <td>08/03/19</td>\n",
       "      <td>10:29:00</td>\n",
       "      <td>Cash</td>\n",
       "      <td>9.6</td>\n",
       "      <td>0.48</td>\n",
       "    </tr>\n",
       "    <tr>\n",
       "      <th>2</th>\n",
       "      <td>3</td>\n",
       "      <td>WALM067</td>\n",
       "      <td>Haltom City</td>\n",
       "      <td>Home and lifestyle</td>\n",
       "      <td>$46.33</td>\n",
       "      <td>7.0</td>\n",
       "      <td>03/03/19</td>\n",
       "      <td>13:23:00</td>\n",
       "      <td>Credit card</td>\n",
       "      <td>7.4</td>\n",
       "      <td>0.33</td>\n",
       "    </tr>\n",
       "    <tr>\n",
       "      <th>3</th>\n",
       "      <td>4</td>\n",
       "      <td>WALM064</td>\n",
       "      <td>Bedford</td>\n",
       "      <td>Health and beauty</td>\n",
       "      <td>$58.22</td>\n",
       "      <td>8.0</td>\n",
       "      <td>27/01/19</td>\n",
       "      <td>20:33:00</td>\n",
       "      <td>Ewallet</td>\n",
       "      <td>8.4</td>\n",
       "      <td>0.33</td>\n",
       "    </tr>\n",
       "    <tr>\n",
       "      <th>4</th>\n",
       "      <td>5</td>\n",
       "      <td>WALM013</td>\n",
       "      <td>Irving</td>\n",
       "      <td>Sports and travel</td>\n",
       "      <td>$86.31</td>\n",
       "      <td>7.0</td>\n",
       "      <td>08/02/19</td>\n",
       "      <td>10:37:00</td>\n",
       "      <td>Ewallet</td>\n",
       "      <td>5.3</td>\n",
       "      <td>0.48</td>\n",
       "    </tr>\n",
       "    <tr>\n",
       "      <th>5</th>\n",
       "      <td>6</td>\n",
       "      <td>WALM026</td>\n",
       "      <td>Denton</td>\n",
       "      <td>Electronic accessories</td>\n",
       "      <td>$85.39</td>\n",
       "      <td>7.0</td>\n",
       "      <td>25/03/19</td>\n",
       "      <td>18:30:00</td>\n",
       "      <td>Ewallet</td>\n",
       "      <td>4.1</td>\n",
       "      <td>0.48</td>\n",
       "    </tr>\n",
       "    <tr>\n",
       "      <th>6</th>\n",
       "      <td>7</td>\n",
       "      <td>WALM088</td>\n",
       "      <td>Cleburne</td>\n",
       "      <td>Electronic accessories</td>\n",
       "      <td>$68.84</td>\n",
       "      <td>6.0</td>\n",
       "      <td>25/02/19</td>\n",
       "      <td>14:36:00</td>\n",
       "      <td>Ewallet</td>\n",
       "      <td>5.8</td>\n",
       "      <td>0.33</td>\n",
       "    </tr>\n",
       "    <tr>\n",
       "      <th>7</th>\n",
       "      <td>8</td>\n",
       "      <td>WALM100</td>\n",
       "      <td>Canyon</td>\n",
       "      <td>Home and lifestyle</td>\n",
       "      <td>$73.56</td>\n",
       "      <td>10.0</td>\n",
       "      <td>24/02/19</td>\n",
       "      <td>11:38:00</td>\n",
       "      <td>Ewallet</td>\n",
       "      <td>8.0</td>\n",
       "      <td>0.18</td>\n",
       "    </tr>\n",
       "    <tr>\n",
       "      <th>8</th>\n",
       "      <td>9</td>\n",
       "      <td>WALM066</td>\n",
       "      <td>Grapevine</td>\n",
       "      <td>Health and beauty</td>\n",
       "      <td>$36.26</td>\n",
       "      <td>2.0</td>\n",
       "      <td>10/01/19</td>\n",
       "      <td>17:15:00</td>\n",
       "      <td>Credit card</td>\n",
       "      <td>7.2</td>\n",
       "      <td>0.33</td>\n",
       "    </tr>\n",
       "    <tr>\n",
       "      <th>9</th>\n",
       "      <td>10</td>\n",
       "      <td>WALM065</td>\n",
       "      <td>Texas City</td>\n",
       "      <td>Food and beverages</td>\n",
       "      <td>$54.84</td>\n",
       "      <td>3.0</td>\n",
       "      <td>20/02/19</td>\n",
       "      <td>13:27:00</td>\n",
       "      <td>Credit card</td>\n",
       "      <td>5.9</td>\n",
       "      <td>0.33</td>\n",
       "    </tr>\n",
       "    <tr>\n",
       "      <th>10</th>\n",
       "      <td>11</td>\n",
       "      <td>WALM013</td>\n",
       "      <td>Irving</td>\n",
       "      <td>Fashion accessories</td>\n",
       "      <td>$14.48</td>\n",
       "      <td>4.0</td>\n",
       "      <td>06/02/19</td>\n",
       "      <td>18:07:00</td>\n",
       "      <td>Ewallet</td>\n",
       "      <td>4.5</td>\n",
       "      <td>0.48</td>\n",
       "    </tr>\n",
       "    <tr>\n",
       "      <th>11</th>\n",
       "      <td>12</td>\n",
       "      <td>WALM035</td>\n",
       "      <td>San Angelo</td>\n",
       "      <td>Electronic accessories</td>\n",
       "      <td>$25.51</td>\n",
       "      <td>4.0</td>\n",
       "      <td>09/03/19</td>\n",
       "      <td>17:03:00</td>\n",
       "      <td>Cash</td>\n",
       "      <td>6.8</td>\n",
       "      <td>0.48</td>\n",
       "    </tr>\n",
       "    <tr>\n",
       "      <th>12</th>\n",
       "      <td>13</td>\n",
       "      <td>WALM027</td>\n",
       "      <td>Abilene</td>\n",
       "      <td>Electronic accessories</td>\n",
       "      <td>$46.95</td>\n",
       "      <td>5.0</td>\n",
       "      <td>12/02/19</td>\n",
       "      <td>10:25:00</td>\n",
       "      <td>Ewallet</td>\n",
       "      <td>7.1</td>\n",
       "      <td>0.48</td>\n",
       "    </tr>\n",
       "    <tr>\n",
       "      <th>13</th>\n",
       "      <td>14</td>\n",
       "      <td>WALM035</td>\n",
       "      <td>San Angelo</td>\n",
       "      <td>Food and beverages</td>\n",
       "      <td>$43.19</td>\n",
       "      <td>10.0</td>\n",
       "      <td>07/02/19</td>\n",
       "      <td>16:48:00</td>\n",
       "      <td>Ewallet</td>\n",
       "      <td>8.2</td>\n",
       "      <td>0.48</td>\n",
       "    </tr>\n",
       "    <tr>\n",
       "      <th>14</th>\n",
       "      <td>15</td>\n",
       "      <td>WALM031</td>\n",
       "      <td>Lewisville</td>\n",
       "      <td>Health and beauty</td>\n",
       "      <td>$71.38</td>\n",
       "      <td>10.0</td>\n",
       "      <td>29/03/19</td>\n",
       "      <td>19:21:00</td>\n",
       "      <td>Cash</td>\n",
       "      <td>5.7</td>\n",
       "      <td>0.48</td>\n",
       "    </tr>\n",
       "    <tr>\n",
       "      <th>15</th>\n",
       "      <td>16</td>\n",
       "      <td>WALM008</td>\n",
       "      <td>Corpus Christi</td>\n",
       "      <td>Sports and travel</td>\n",
       "      <td>$93.72</td>\n",
       "      <td>6.0</td>\n",
       "      <td>15/01/19</td>\n",
       "      <td>16:19:00</td>\n",
       "      <td>Cash</td>\n",
       "      <td>4.5</td>\n",
       "      <td>0.48</td>\n",
       "    </tr>\n",
       "    <tr>\n",
       "      <th>16</th>\n",
       "      <td>17</td>\n",
       "      <td>WALM029</td>\n",
       "      <td>Round Rock</td>\n",
       "      <td>Health and beauty</td>\n",
       "      <td>$68.93</td>\n",
       "      <td>7.0</td>\n",
       "      <td>11/03/19</td>\n",
       "      <td>11:03:00</td>\n",
       "      <td>Credit card</td>\n",
       "      <td>4.6</td>\n",
       "      <td>0.48</td>\n",
       "    </tr>\n",
       "    <tr>\n",
       "      <th>17</th>\n",
       "      <td>18</td>\n",
       "      <td>WALM061</td>\n",
       "      <td>Cedar Park</td>\n",
       "      <td>Sports and travel</td>\n",
       "      <td>$72.61</td>\n",
       "      <td>6.0</td>\n",
       "      <td>01/01/19</td>\n",
       "      <td>10:39:00</td>\n",
       "      <td>Credit card</td>\n",
       "      <td>6.9</td>\n",
       "      <td>0.33</td>\n",
       "    </tr>\n",
       "    <tr>\n",
       "      <th>18</th>\n",
       "      <td>19</td>\n",
       "      <td>WALM053</td>\n",
       "      <td>Conroe</td>\n",
       "      <td>Food and beverages</td>\n",
       "      <td>$54.67</td>\n",
       "      <td>3.0</td>\n",
       "      <td>21/01/19</td>\n",
       "      <td>18:00:00</td>\n",
       "      <td>Credit card</td>\n",
       "      <td>8.6</td>\n",
       "      <td>0.57</td>\n",
       "    </tr>\n",
       "    <tr>\n",
       "      <th>19</th>\n",
       "      <td>20</td>\n",
       "      <td>WALM013</td>\n",
       "      <td>Irving</td>\n",
       "      <td>Home and lifestyle</td>\n",
       "      <td>$40.3</td>\n",
       "      <td>2.0</td>\n",
       "      <td>11/03/19</td>\n",
       "      <td>15:30:00</td>\n",
       "      <td>Ewallet</td>\n",
       "      <td>4.4</td>\n",
       "      <td>0.48</td>\n",
       "    </tr>\n",
       "  </tbody>\n",
       "</table>\n",
       "</div>"
      ],
      "text/plain": [
       "    invoice_id   Branch            City                category unit_price  \\\n",
       "0            1  WALM003     San Antonio       Health and beauty     $74.69   \n",
       "1            2  WALM048       Harlingen  Electronic accessories     $15.28   \n",
       "2            3  WALM067     Haltom City      Home and lifestyle     $46.33   \n",
       "3            4  WALM064         Bedford       Health and beauty     $58.22   \n",
       "4            5  WALM013          Irving       Sports and travel     $86.31   \n",
       "5            6  WALM026          Denton  Electronic accessories     $85.39   \n",
       "6            7  WALM088        Cleburne  Electronic accessories     $68.84   \n",
       "7            8  WALM100          Canyon      Home and lifestyle     $73.56   \n",
       "8            9  WALM066       Grapevine       Health and beauty     $36.26   \n",
       "9           10  WALM065      Texas City      Food and beverages     $54.84   \n",
       "10          11  WALM013          Irving     Fashion accessories     $14.48   \n",
       "11          12  WALM035      San Angelo  Electronic accessories     $25.51   \n",
       "12          13  WALM027         Abilene  Electronic accessories     $46.95   \n",
       "13          14  WALM035      San Angelo      Food and beverages     $43.19   \n",
       "14          15  WALM031      Lewisville       Health and beauty     $71.38   \n",
       "15          16  WALM008  Corpus Christi       Sports and travel     $93.72   \n",
       "16          17  WALM029      Round Rock       Health and beauty     $68.93   \n",
       "17          18  WALM061      Cedar Park       Sports and travel     $72.61   \n",
       "18          19  WALM053          Conroe      Food and beverages     $54.67   \n",
       "19          20  WALM013          Irving      Home and lifestyle      $40.3   \n",
       "\n",
       "    quantity      date      time payment_method  rating  profit_margin  \n",
       "0        7.0  05/01/19  13:08:00        Ewallet     9.1           0.48  \n",
       "1        5.0  08/03/19  10:29:00           Cash     9.6           0.48  \n",
       "2        7.0  03/03/19  13:23:00    Credit card     7.4           0.33  \n",
       "3        8.0  27/01/19  20:33:00        Ewallet     8.4           0.33  \n",
       "4        7.0  08/02/19  10:37:00        Ewallet     5.3           0.48  \n",
       "5        7.0  25/03/19  18:30:00        Ewallet     4.1           0.48  \n",
       "6        6.0  25/02/19  14:36:00        Ewallet     5.8           0.33  \n",
       "7       10.0  24/02/19  11:38:00        Ewallet     8.0           0.18  \n",
       "8        2.0  10/01/19  17:15:00    Credit card     7.2           0.33  \n",
       "9        3.0  20/02/19  13:27:00    Credit card     5.9           0.33  \n",
       "10       4.0  06/02/19  18:07:00        Ewallet     4.5           0.48  \n",
       "11       4.0  09/03/19  17:03:00           Cash     6.8           0.48  \n",
       "12       5.0  12/02/19  10:25:00        Ewallet     7.1           0.48  \n",
       "13      10.0  07/02/19  16:48:00        Ewallet     8.2           0.48  \n",
       "14      10.0  29/03/19  19:21:00           Cash     5.7           0.48  \n",
       "15       6.0  15/01/19  16:19:00           Cash     4.5           0.48  \n",
       "16       7.0  11/03/19  11:03:00    Credit card     4.6           0.48  \n",
       "17       6.0  01/01/19  10:39:00    Credit card     6.9           0.33  \n",
       "18       3.0  21/01/19  18:00:00    Credit card     8.6           0.57  \n",
       "19       2.0  11/03/19  15:30:00        Ewallet     4.4           0.48  "
      ]
     },
     "execution_count": 70,
     "metadata": {},
     "output_type": "execute_result"
    }
   ],
   "source": [
    "#  Load Data\n",
    "df = pd.read_csv(r\"C:\\Users\\HP\\Desktop\\python\\Walmart_Analysis\\Walmart.csv\")\n",
    "df.head(20)"
   ]
  },
  {
   "cell_type": "markdown",
   "id": "75a49188",
   "metadata": {},
   "source": [
    "### Exploratory Data Analysis (EDA) \n",
    "#### Remove the dollar sign from Unit_price column and convert the text to float datatype of column\n",
    "#### Add column Amount to know value of product \n",
    "#### Unit_price and Quantity column having missing value handle them first"
   ]
  },
  {
   "cell_type": "code",
   "execution_count": 71,
   "id": "9b6fe4fb",
   "metadata": {},
   "outputs": [
    {
     "data": {
      "text/plain": [
       "(10051, 11)"
      ]
     },
     "execution_count": 71,
     "metadata": {},
     "output_type": "execute_result"
    }
   ],
   "source": [
    "# Checking the how many rows, column in dataset\n",
    "df.shape"
   ]
  },
  {
   "cell_type": "code",
   "execution_count": 72,
   "id": "3f6a0e5f",
   "metadata": {},
   "outputs": [
    {
     "name": "stdout",
     "output_type": "stream",
     "text": [
      "<class 'pandas.core.frame.DataFrame'>\n",
      "RangeIndex: 10051 entries, 0 to 10050\n",
      "Data columns (total 11 columns):\n",
      " #   Column          Non-Null Count  Dtype  \n",
      "---  ------          --------------  -----  \n",
      " 0   invoice_id      10051 non-null  int64  \n",
      " 1   Branch          10051 non-null  object \n",
      " 2   City            10051 non-null  object \n",
      " 3   category        10051 non-null  object \n",
      " 4   unit_price      10020 non-null  object \n",
      " 5   quantity        10020 non-null  float64\n",
      " 6   date            10051 non-null  object \n",
      " 7   time            10051 non-null  object \n",
      " 8   payment_method  10051 non-null  object \n",
      " 9   rating          10051 non-null  float64\n",
      " 10  profit_margin   10051 non-null  float64\n",
      "dtypes: float64(3), int64(1), object(7)\n",
      "memory usage: 863.9+ KB\n"
     ]
    }
   ],
   "source": [
    "# Checking the all information of the dataset\n",
    "df.info()"
   ]
  },
  {
   "cell_type": "code",
   "execution_count": 73,
   "id": "1de4c0ea",
   "metadata": {},
   "outputs": [
    {
     "data": {
      "text/plain": [
       "51"
      ]
     },
     "execution_count": 73,
     "metadata": {},
     "output_type": "execute_result"
    }
   ],
   "source": [
    "# Checking the any duplicate value present\n",
    "df.duplicated().sum()"
   ]
  },
  {
   "cell_type": "code",
   "execution_count": 74,
   "id": "68a4006e",
   "metadata": {},
   "outputs": [],
   "source": [
    "# Droping the duplicate values from the dataset\n",
    "df.drop_duplicates(inplace=True)"
   ]
  },
  {
   "cell_type": "code",
   "execution_count": 75,
   "id": "a73b6361",
   "metadata": {},
   "outputs": [
    {
     "data": {
      "application/vnd.microsoft.datawrangler.viewer.v0+json": {
       "columns": [
        {
         "name": "index",
         "rawType": "object",
         "type": "string"
        },
        {
         "name": "0",
         "rawType": "int64",
         "type": "integer"
        }
       ],
       "ref": "4f524b40-b454-415e-a949-19cffd5e6d10",
       "rows": [
        [
         "invoice_id",
         "0"
        ],
        [
         "Branch",
         "0"
        ],
        [
         "City",
         "0"
        ],
        [
         "category",
         "0"
        ],
        [
         "unit_price",
         "31"
        ],
        [
         "quantity",
         "31"
        ],
        [
         "date",
         "0"
        ],
        [
         "time",
         "0"
        ],
        [
         "payment_method",
         "0"
        ],
        [
         "rating",
         "0"
        ],
        [
         "profit_margin",
         "0"
        ]
       ],
       "shape": {
        "columns": 1,
        "rows": 11
       }
      },
      "text/plain": [
       "invoice_id         0\n",
       "Branch             0\n",
       "City               0\n",
       "category           0\n",
       "unit_price        31\n",
       "quantity          31\n",
       "date               0\n",
       "time               0\n",
       "payment_method     0\n",
       "rating             0\n",
       "profit_margin      0\n",
       "dtype: int64"
      ]
     },
     "execution_count": 75,
     "metadata": {},
     "output_type": "execute_result"
    }
   ],
   "source": [
    "# Checking the any null value present in data or not\n",
    "\n",
    "df.isnull().sum()"
   ]
  },
  {
   "cell_type": "code",
   "execution_count": 76,
   "id": "c154f5e7",
   "metadata": {},
   "outputs": [],
   "source": [
    "# Removeing the null values from the dataset \n",
    "df.dropna(inplace=True)"
   ]
  },
  {
   "cell_type": "code",
   "execution_count": 77,
   "id": "2336f165",
   "metadata": {},
   "outputs": [],
   "source": [
    "# Remove Dollar($) sign from column unit_price and place space\n",
    "\n",
    "df['unit_price'] = df['unit_price'].str.replace('$', '', regex=False).astype(float)"
   ]
  },
  {
   "cell_type": "code",
   "execution_count": 78,
   "id": "1a0da1a7",
   "metadata": {},
   "outputs": [
    {
     "name": "stderr",
     "output_type": "stream",
     "text": [
      "C:\\Users\\HP\\AppData\\Local\\Temp\\ipykernel_1428\\2273664682.py:3: UserWarning: Could not infer format, so each element will be parsed individually, falling back to `dateutil`. To ensure parsing is consistent and as-expected, please specify a format.\n",
      "  df['date'] = pd.to_datetime(df['date'])\n"
     ]
    }
   ],
   "source": [
    "# Converting the datatype of \"date\" column\n",
    " \n",
    "df['date'] = pd.to_datetime(df['date'])"
   ]
  },
  {
   "cell_type": "code",
   "execution_count": 79,
   "id": "799c7c9c",
   "metadata": {},
   "outputs": [
    {
     "data": {
      "application/vnd.microsoft.datawrangler.viewer.v0+json": {
       "columns": [
        {
         "name": "index",
         "rawType": "int64",
         "type": "integer"
        },
        {
         "name": "invoice_id",
         "rawType": "int64",
         "type": "integer"
        },
        {
         "name": "Branch",
         "rawType": "object",
         "type": "string"
        },
        {
         "name": "City",
         "rawType": "object",
         "type": "string"
        },
        {
         "name": "category",
         "rawType": "object",
         "type": "string"
        },
        {
         "name": "unit_price",
         "rawType": "float64",
         "type": "float"
        },
        {
         "name": "quantity",
         "rawType": "float64",
         "type": "float"
        },
        {
         "name": "date",
         "rawType": "datetime64[ns]",
         "type": "datetime"
        },
        {
         "name": "time",
         "rawType": "object",
         "type": "string"
        },
        {
         "name": "payment_method",
         "rawType": "object",
         "type": "string"
        },
        {
         "name": "rating",
         "rawType": "float64",
         "type": "float"
        },
        {
         "name": "profit_margin",
         "rawType": "float64",
         "type": "float"
        },
        {
         "name": "total",
         "rawType": "float64",
         "type": "float"
        }
       ],
       "ref": "699465c3-895f-49af-ba03-89cd9dac7c8d",
       "rows": [
        [
         "0",
         "1",
         "WALM003",
         "San Antonio",
         "Health and beauty",
         "74.69",
         "7.0",
         "2019-05-01 00:00:00",
         "13:08:00",
         "Ewallet",
         "9.1",
         "0.48",
         "522.8299999999999"
        ],
        [
         "1",
         "2",
         "WALM048",
         "Harlingen",
         "Electronic accessories",
         "15.28",
         "5.0",
         "2019-08-03 00:00:00",
         "10:29:00",
         "Cash",
         "9.6",
         "0.48",
         "76.39999999999999"
        ],
        [
         "2",
         "3",
         "WALM067",
         "Haltom City",
         "Home and lifestyle",
         "46.33",
         "7.0",
         "2019-03-03 00:00:00",
         "13:23:00",
         "Credit card",
         "7.4",
         "0.33",
         "324.31"
        ],
        [
         "3",
         "4",
         "WALM064",
         "Bedford",
         "Health and beauty",
         "58.22",
         "8.0",
         "2019-01-27 00:00:00",
         "20:33:00",
         "Ewallet",
         "8.4",
         "0.33",
         "465.76"
        ],
        [
         "4",
         "5",
         "WALM013",
         "Irving",
         "Sports and travel",
         "86.31",
         "7.0",
         "2019-08-02 00:00:00",
         "10:37:00",
         "Ewallet",
         "5.3",
         "0.48",
         "604.1700000000001"
        ],
        [
         "5",
         "6",
         "WALM026",
         "Denton",
         "Electronic accessories",
         "85.39",
         "7.0",
         "2019-03-25 00:00:00",
         "18:30:00",
         "Ewallet",
         "4.1",
         "0.48",
         "597.73"
        ],
        [
         "6",
         "7",
         "WALM088",
         "Cleburne",
         "Electronic accessories",
         "68.84",
         "6.0",
         "2019-02-25 00:00:00",
         "14:36:00",
         "Ewallet",
         "5.8",
         "0.33",
         "413.04"
        ],
        [
         "7",
         "8",
         "WALM100",
         "Canyon",
         "Home and lifestyle",
         "73.56",
         "10.0",
         "2019-02-24 00:00:00",
         "11:38:00",
         "Ewallet",
         "8.0",
         "0.18",
         "735.6"
        ],
        [
         "8",
         "9",
         "WALM066",
         "Grapevine",
         "Health and beauty",
         "36.26",
         "2.0",
         "2019-10-01 00:00:00",
         "17:15:00",
         "Credit card",
         "7.2",
         "0.33",
         "72.52"
        ],
        [
         "9",
         "10",
         "WALM065",
         "Texas City",
         "Food and beverages",
         "54.84",
         "3.0",
         "2019-02-20 00:00:00",
         "13:27:00",
         "Credit card",
         "5.9",
         "0.33",
         "164.52"
        ],
        [
         "10",
         "11",
         "WALM013",
         "Irving",
         "Fashion accessories",
         "14.48",
         "4.0",
         "2019-06-02 00:00:00",
         "18:07:00",
         "Ewallet",
         "4.5",
         "0.48",
         "57.92"
        ],
        [
         "11",
         "12",
         "WALM035",
         "San Angelo",
         "Electronic accessories",
         "25.51",
         "4.0",
         "2019-09-03 00:00:00",
         "17:03:00",
         "Cash",
         "6.8",
         "0.48",
         "102.04"
        ],
        [
         "12",
         "13",
         "WALM027",
         "Abilene",
         "Electronic accessories",
         "46.95",
         "5.0",
         "2019-12-02 00:00:00",
         "10:25:00",
         "Ewallet",
         "7.1",
         "0.48",
         "234.75"
        ],
        [
         "13",
         "14",
         "WALM035",
         "San Angelo",
         "Food and beverages",
         "43.19",
         "10.0",
         "2019-07-02 00:00:00",
         "16:48:00",
         "Ewallet",
         "8.2",
         "0.48",
         "431.9"
        ],
        [
         "14",
         "15",
         "WALM031",
         "Lewisville",
         "Health and beauty",
         "71.38",
         "10.0",
         "2019-03-29 00:00:00",
         "19:21:00",
         "Cash",
         "5.7",
         "0.48",
         "713.8"
        ],
        [
         "15",
         "16",
         "WALM008",
         "Corpus Christi",
         "Sports and travel",
         "93.72",
         "6.0",
         "2019-01-15 00:00:00",
         "16:19:00",
         "Cash",
         "4.5",
         "0.48",
         "562.3199999999999"
        ],
        [
         "16",
         "17",
         "WALM029",
         "Round Rock",
         "Health and beauty",
         "68.93",
         "7.0",
         "2019-11-03 00:00:00",
         "11:03:00",
         "Credit card",
         "4.6",
         "0.48",
         "482.51000000000005"
        ],
        [
         "17",
         "18",
         "WALM061",
         "Cedar Park",
         "Sports and travel",
         "72.61",
         "6.0",
         "2019-01-01 00:00:00",
         "10:39:00",
         "Credit card",
         "6.9",
         "0.33",
         "435.65999999999997"
        ],
        [
         "18",
         "19",
         "WALM053",
         "Conroe",
         "Food and beverages",
         "54.67",
         "3.0",
         "2019-01-21 00:00:00",
         "18:00:00",
         "Credit card",
         "8.6",
         "0.57",
         "164.01"
        ],
        [
         "19",
         "20",
         "WALM013",
         "Irving",
         "Home and lifestyle",
         "40.3",
         "2.0",
         "2019-11-03 00:00:00",
         "15:30:00",
         "Ewallet",
         "4.4",
         "0.48",
         "80.6"
        ],
        [
         "20",
         "21",
         "WALM044",
         "Pharr",
         "Electronic accessories",
         "86.04",
         "5.0",
         "2019-02-25 00:00:00",
         "11:24:00",
         "Ewallet",
         "4.8",
         "0.48",
         "430.20000000000005"
        ],
        [
         "21",
         "22",
         "WALM088",
         "Cleburne",
         "Health and beauty",
         "87.98",
         "3.0",
         "2019-05-03 00:00:00",
         "10:40:00",
         "Ewallet",
         "5.1",
         "0.33",
         "263.94"
        ],
        [
         "22",
         "23",
         "WALM083",
         "Farmers Branch",
         "Home and lifestyle",
         "33.2",
         "2.0",
         "2019-03-15 00:00:00",
         "12:20:00",
         "Credit card",
         "4.4",
         "0.33",
         "66.4"
        ],
        [
         "23",
         "24",
         "WALM067",
         "Haltom City",
         "Electronic accessories",
         "34.56",
         "5.0",
         "2019-02-17 00:00:00",
         "11:15:00",
         "Ewallet",
         "9.9",
         "0.33",
         "172.8"
        ],
        [
         "24",
         "25",
         "WALM023",
         "Midland",
         "Sports and travel",
         "88.63",
         "3.0",
         "2019-02-03 00:00:00",
         "17:36:00",
         "Ewallet",
         "6.0",
         "0.48",
         "265.89"
        ],
        [
         "25",
         "26",
         "WALM001",
         "Houston",
         "Home and lifestyle",
         "52.59",
         "8.0",
         "2019-03-22 00:00:00",
         "19:20:00",
         "Credit card",
         "8.5",
         "0.36",
         "420.72"
        ],
        [
         "26",
         "27",
         "WALM072",
         "Lancaster",
         "Fashion accessories",
         "33.52",
         "1.0",
         "2019-08-02 00:00:00",
         "15:31:00",
         "Cash",
         "6.7",
         "0.33",
         "33.52"
        ],
        [
         "27",
         "28",
         "WALM046",
         "Temple",
         "Fashion accessories",
         "87.67",
         "2.0",
         "2019-10-03 00:00:00",
         "12:17:00",
         "Credit card",
         "7.7",
         "0.48",
         "175.34"
        ],
        [
         "28",
         "29",
         "WALM012",
         "Garland",
         "Food and beverages",
         "88.36",
         "5.0",
         "2019-01-25 00:00:00",
         "19:48:00",
         "Cash",
         "9.6",
         "0.48",
         "441.8"
        ],
        [
         "29",
         "30",
         "WALM075",
         "San Marcos",
         "Health and beauty",
         "24.89",
         "9.0",
         "2019-03-15 00:00:00",
         "15:36:00",
         "Cash",
         "7.4",
         "0.33",
         "224.01"
        ],
        [
         "30",
         "31",
         "WALM076",
         "Huntsville",
         "Fashion accessories",
         "94.13",
         "5.0",
         "2019-02-25 00:00:00",
         "19:39:00",
         "Credit card",
         "4.8",
         "0.33",
         "470.65"
        ],
        [
         "31",
         "32",
         "WALM098",
         "Mineral Wells",
         "Sports and travel",
         "78.07",
         "9.0",
         "2019-01-28 00:00:00",
         "12:43:00",
         "Cash",
         "4.5",
         "0.18",
         "702.6299999999999"
        ],
        [
         "32",
         "33",
         "WALM021",
         "McAllen",
         "Sports and travel",
         "83.78",
         "8.0",
         "2019-10-01 00:00:00",
         "14:49:00",
         "Cash",
         "5.1",
         "0.48",
         "670.24"
        ],
        [
         "33",
         "34",
         "WALM096",
         "Eagle Pass",
         "Health and beauty",
         "96.58",
         "2.0",
         "2019-03-15 00:00:00",
         "10:12:00",
         "Credit card",
         "5.1",
         "0.18",
         "193.16"
        ],
        [
         "34",
         "35",
         "WALM022",
         "Mesquite",
         "Food and beverages",
         "99.42",
         "4.0",
         "2019-06-02 00:00:00",
         "10:42:00",
         "Ewallet",
         "7.5",
         "0.48",
         "397.68"
        ],
        [
         "35",
         "36",
         "WALM095",
         "Big Spring",
         "Sports and travel",
         "68.12",
         "1.0",
         "2019-07-01 00:00:00",
         "12:28:00",
         "Ewallet",
         "6.8",
         "0.33",
         "68.12"
        ],
        [
         "36",
         "37",
         "WALM041",
         "Mission",
         "Sports and travel",
         "62.62",
         "5.0",
         "2019-10-03 00:00:00",
         "19:15:00",
         "Ewallet",
         "7.0",
         "0.48",
         "313.09999999999997"
        ],
        [
         "37",
         "38",
         "WALM070",
         "Hurst",
         "Electronic accessories",
         "60.88",
         "9.0",
         "2019-01-15 00:00:00",
         "17:17:00",
         "Ewallet",
         "4.7",
         "0.33",
         "547.9200000000001"
        ],
        [
         "38",
         "39",
         "WALM070",
         "Hurst",
         "Health and beauty",
         "54.92",
         "8.0",
         "2019-03-23 00:00:00",
         "13:24:00",
         "Ewallet",
         "7.6",
         "0.33",
         "439.36"
        ],
        [
         "39",
         "40",
         "WALM030",
         "Richardson",
         "Home and lifestyle",
         "30.12",
         "8.0",
         "2019-03-03 00:00:00",
         "13:01:00",
         "Cash",
         "7.7",
         "0.48",
         "240.96"
        ],
        [
         "40",
         "41",
         "WALM033",
         "Pearland",
         "Home and lifestyle",
         "86.72",
         "1.0",
         "2019-01-17 00:00:00",
         "18:45:00",
         "Ewallet",
         "7.9",
         "0.48",
         "86.72"
        ],
        [
         "41",
         "42",
         "WALM088",
         "Cleburne",
         "Home and lifestyle",
         "56.11",
         "2.0",
         "2019-02-02 00:00:00",
         "10:11:00",
         "Cash",
         "6.3",
         "0.33",
         "112.22"
        ],
        [
         "42",
         "43",
         "WALM079",
         "La Porte",
         "Sports and travel",
         "69.12",
         "6.0",
         "2019-08-02 00:00:00",
         "13:03:00",
         "Cash",
         "5.6",
         "0.33",
         "414.72"
        ],
        [
         "43",
         "44",
         "WALM042",
         "Bryan",
         "Food and beverages",
         "98.7",
         "8.0",
         "2019-04-03 00:00:00",
         "20:39:00",
         "Cash",
         "7.6",
         "0.48",
         "789.6"
        ],
        [
         "44",
         "45",
         "WALM036",
         "Allen",
         "Health and beauty",
         "15.37",
         "2.0",
         "2019-03-16 00:00:00",
         "19:47:00",
         "Cash",
         "7.2",
         "0.48",
         "30.74"
        ],
        [
         "45",
         "46",
         "WALM056",
         "Rowlett",
         "Electronic accessories",
         "93.96",
         "4.0",
         "2019-09-03 00:00:00",
         "18:00:00",
         "Cash",
         "9.5",
         "0.33",
         "375.84"
        ],
        [
         "46",
         "47",
         "WALM058",
         "Port Arthur",
         "Health and beauty",
         "56.69",
         "9.0",
         "2019-02-27 00:00:00",
         "17:24:00",
         "Credit card",
         "8.4",
         "0.33",
         "510.21"
        ],
        [
         "47",
         "48",
         "WALM015",
         "Grand Prairie",
         "Food and beverages",
         "20.01",
         "9.0",
         "2019-06-02 00:00:00",
         "15:47:00",
         "Ewallet",
         "4.1",
         "0.48",
         "180.09"
        ],
        [
         "48",
         "49",
         "WALM063",
         "Georgetown",
         "Electronic accessories",
         "18.93",
         "6.0",
         "2019-10-02 00:00:00",
         "12:45:00",
         "Credit card",
         "8.1",
         "0.33",
         "113.58"
        ],
        [
         "49",
         "50",
         "WALM021",
         "McAllen",
         "Fashion accessories",
         "82.63",
         "10.0",
         "2019-03-19 00:00:00",
         "17:08:00",
         "Ewallet",
         "7.9",
         "0.48",
         "826.3"
        ]
       ],
       "shape": {
        "columns": 12,
        "rows": 9969
       }
      },
      "text/html": [
       "<div>\n",
       "<style scoped>\n",
       "    .dataframe tbody tr th:only-of-type {\n",
       "        vertical-align: middle;\n",
       "    }\n",
       "\n",
       "    .dataframe tbody tr th {\n",
       "        vertical-align: top;\n",
       "    }\n",
       "\n",
       "    .dataframe thead th {\n",
       "        text-align: right;\n",
       "    }\n",
       "</style>\n",
       "<table border=\"1\" class=\"dataframe\">\n",
       "  <thead>\n",
       "    <tr style=\"text-align: right;\">\n",
       "      <th></th>\n",
       "      <th>invoice_id</th>\n",
       "      <th>Branch</th>\n",
       "      <th>City</th>\n",
       "      <th>category</th>\n",
       "      <th>unit_price</th>\n",
       "      <th>quantity</th>\n",
       "      <th>date</th>\n",
       "      <th>time</th>\n",
       "      <th>payment_method</th>\n",
       "      <th>rating</th>\n",
       "      <th>profit_margin</th>\n",
       "      <th>total</th>\n",
       "    </tr>\n",
       "  </thead>\n",
       "  <tbody>\n",
       "    <tr>\n",
       "      <th>0</th>\n",
       "      <td>1</td>\n",
       "      <td>WALM003</td>\n",
       "      <td>San Antonio</td>\n",
       "      <td>Health and beauty</td>\n",
       "      <td>74.69</td>\n",
       "      <td>7.0</td>\n",
       "      <td>2019-05-01</td>\n",
       "      <td>13:08:00</td>\n",
       "      <td>Ewallet</td>\n",
       "      <td>9.1</td>\n",
       "      <td>0.48</td>\n",
       "      <td>522.83</td>\n",
       "    </tr>\n",
       "    <tr>\n",
       "      <th>1</th>\n",
       "      <td>2</td>\n",
       "      <td>WALM048</td>\n",
       "      <td>Harlingen</td>\n",
       "      <td>Electronic accessories</td>\n",
       "      <td>15.28</td>\n",
       "      <td>5.0</td>\n",
       "      <td>2019-08-03</td>\n",
       "      <td>10:29:00</td>\n",
       "      <td>Cash</td>\n",
       "      <td>9.6</td>\n",
       "      <td>0.48</td>\n",
       "      <td>76.40</td>\n",
       "    </tr>\n",
       "    <tr>\n",
       "      <th>2</th>\n",
       "      <td>3</td>\n",
       "      <td>WALM067</td>\n",
       "      <td>Haltom City</td>\n",
       "      <td>Home and lifestyle</td>\n",
       "      <td>46.33</td>\n",
       "      <td>7.0</td>\n",
       "      <td>2019-03-03</td>\n",
       "      <td>13:23:00</td>\n",
       "      <td>Credit card</td>\n",
       "      <td>7.4</td>\n",
       "      <td>0.33</td>\n",
       "      <td>324.31</td>\n",
       "    </tr>\n",
       "    <tr>\n",
       "      <th>3</th>\n",
       "      <td>4</td>\n",
       "      <td>WALM064</td>\n",
       "      <td>Bedford</td>\n",
       "      <td>Health and beauty</td>\n",
       "      <td>58.22</td>\n",
       "      <td>8.0</td>\n",
       "      <td>2019-01-27</td>\n",
       "      <td>20:33:00</td>\n",
       "      <td>Ewallet</td>\n",
       "      <td>8.4</td>\n",
       "      <td>0.33</td>\n",
       "      <td>465.76</td>\n",
       "    </tr>\n",
       "    <tr>\n",
       "      <th>4</th>\n",
       "      <td>5</td>\n",
       "      <td>WALM013</td>\n",
       "      <td>Irving</td>\n",
       "      <td>Sports and travel</td>\n",
       "      <td>86.31</td>\n",
       "      <td>7.0</td>\n",
       "      <td>2019-08-02</td>\n",
       "      <td>10:37:00</td>\n",
       "      <td>Ewallet</td>\n",
       "      <td>5.3</td>\n",
       "      <td>0.48</td>\n",
       "      <td>604.17</td>\n",
       "    </tr>\n",
       "    <tr>\n",
       "      <th>...</th>\n",
       "      <td>...</td>\n",
       "      <td>...</td>\n",
       "      <td>...</td>\n",
       "      <td>...</td>\n",
       "      <td>...</td>\n",
       "      <td>...</td>\n",
       "      <td>...</td>\n",
       "      <td>...</td>\n",
       "      <td>...</td>\n",
       "      <td>...</td>\n",
       "      <td>...</td>\n",
       "      <td>...</td>\n",
       "    </tr>\n",
       "    <tr>\n",
       "      <th>9995</th>\n",
       "      <td>9996</td>\n",
       "      <td>WALM056</td>\n",
       "      <td>Rowlett</td>\n",
       "      <td>Fashion accessories</td>\n",
       "      <td>37.00</td>\n",
       "      <td>3.0</td>\n",
       "      <td>2023-03-08</td>\n",
       "      <td>10:10:00</td>\n",
       "      <td>Cash</td>\n",
       "      <td>3.0</td>\n",
       "      <td>0.33</td>\n",
       "      <td>111.00</td>\n",
       "    </tr>\n",
       "    <tr>\n",
       "      <th>9996</th>\n",
       "      <td>9997</td>\n",
       "      <td>WALM030</td>\n",
       "      <td>Richardson</td>\n",
       "      <td>Home and lifestyle</td>\n",
       "      <td>58.00</td>\n",
       "      <td>2.0</td>\n",
       "      <td>2021-02-22</td>\n",
       "      <td>14:20:00</td>\n",
       "      <td>Cash</td>\n",
       "      <td>7.0</td>\n",
       "      <td>0.48</td>\n",
       "      <td>116.00</td>\n",
       "    </tr>\n",
       "    <tr>\n",
       "      <th>9997</th>\n",
       "      <td>9998</td>\n",
       "      <td>WALM050</td>\n",
       "      <td>Victoria</td>\n",
       "      <td>Fashion accessories</td>\n",
       "      <td>52.00</td>\n",
       "      <td>3.0</td>\n",
       "      <td>2023-06-15</td>\n",
       "      <td>16:00:00</td>\n",
       "      <td>Credit card</td>\n",
       "      <td>4.0</td>\n",
       "      <td>0.48</td>\n",
       "      <td>156.00</td>\n",
       "    </tr>\n",
       "    <tr>\n",
       "      <th>9998</th>\n",
       "      <td>9999</td>\n",
       "      <td>WALM032</td>\n",
       "      <td>Tyler</td>\n",
       "      <td>Home and lifestyle</td>\n",
       "      <td>79.00</td>\n",
       "      <td>2.0</td>\n",
       "      <td>2021-02-25</td>\n",
       "      <td>12:25:00</td>\n",
       "      <td>Cash</td>\n",
       "      <td>7.0</td>\n",
       "      <td>0.48</td>\n",
       "      <td>158.00</td>\n",
       "    </tr>\n",
       "    <tr>\n",
       "      <th>9999</th>\n",
       "      <td>10000</td>\n",
       "      <td>WALM069</td>\n",
       "      <td>Rockwall</td>\n",
       "      <td>Fashion accessories</td>\n",
       "      <td>62.00</td>\n",
       "      <td>3.0</td>\n",
       "      <td>2020-09-26</td>\n",
       "      <td>9:48:00</td>\n",
       "      <td>Cash</td>\n",
       "      <td>3.0</td>\n",
       "      <td>0.33</td>\n",
       "      <td>186.00</td>\n",
       "    </tr>\n",
       "  </tbody>\n",
       "</table>\n",
       "<p>9969 rows × 12 columns</p>\n",
       "</div>"
      ],
      "text/plain": [
       "      invoice_id   Branch         City                category  unit_price  \\\n",
       "0              1  WALM003  San Antonio       Health and beauty       74.69   \n",
       "1              2  WALM048    Harlingen  Electronic accessories       15.28   \n",
       "2              3  WALM067  Haltom City      Home and lifestyle       46.33   \n",
       "3              4  WALM064      Bedford       Health and beauty       58.22   \n",
       "4              5  WALM013       Irving       Sports and travel       86.31   \n",
       "...          ...      ...          ...                     ...         ...   \n",
       "9995        9996  WALM056      Rowlett     Fashion accessories       37.00   \n",
       "9996        9997  WALM030   Richardson      Home and lifestyle       58.00   \n",
       "9997        9998  WALM050     Victoria     Fashion accessories       52.00   \n",
       "9998        9999  WALM032        Tyler      Home and lifestyle       79.00   \n",
       "9999       10000  WALM069     Rockwall     Fashion accessories       62.00   \n",
       "\n",
       "      quantity       date      time payment_method  rating  profit_margin  \\\n",
       "0          7.0 2019-05-01  13:08:00        Ewallet     9.1           0.48   \n",
       "1          5.0 2019-08-03  10:29:00           Cash     9.6           0.48   \n",
       "2          7.0 2019-03-03  13:23:00    Credit card     7.4           0.33   \n",
       "3          8.0 2019-01-27  20:33:00        Ewallet     8.4           0.33   \n",
       "4          7.0 2019-08-02  10:37:00        Ewallet     5.3           0.48   \n",
       "...        ...        ...       ...            ...     ...            ...   \n",
       "9995       3.0 2023-03-08  10:10:00           Cash     3.0           0.33   \n",
       "9996       2.0 2021-02-22  14:20:00           Cash     7.0           0.48   \n",
       "9997       3.0 2023-06-15  16:00:00    Credit card     4.0           0.48   \n",
       "9998       2.0 2021-02-25  12:25:00           Cash     7.0           0.48   \n",
       "9999       3.0 2020-09-26   9:48:00           Cash     3.0           0.33   \n",
       "\n",
       "       total  \n",
       "0     522.83  \n",
       "1      76.40  \n",
       "2     324.31  \n",
       "3     465.76  \n",
       "4     604.17  \n",
       "...      ...  \n",
       "9995  111.00  \n",
       "9996  116.00  \n",
       "9997  156.00  \n",
       "9998  158.00  \n",
       "9999  186.00  \n",
       "\n",
       "[9969 rows x 12 columns]"
      ]
     },
     "execution_count": 79,
     "metadata": {},
     "output_type": "execute_result"
    }
   ],
   "source": [
    "# Creating New Column As 'Total' \n",
    "\n",
    "df['total'] = df['unit_price'] * df['quantity']\n",
    "df"
   ]
  },
  {
   "cell_type": "markdown",
   "id": "91a6dd72",
   "metadata": {},
   "source": [
    "#### Completed with Exploratory Data Analysis "
   ]
  },
  {
   "cell_type": "markdown",
   "id": "309152b8",
   "metadata": {},
   "source": [
    "## Creating Some Chart for better Understanding of DATA"
   ]
  },
  {
   "cell_type": "code",
   "execution_count": 80,
   "id": "63eb9425",
   "metadata": {},
   "outputs": [
    {
     "data": {
      "text/plain": [
       "Index(['invoice_id', 'Branch', 'City', 'category', 'unit_price', 'quantity',\n",
       "       'date', 'time', 'payment_method', 'rating', 'profit_margin', 'total'],\n",
       "      dtype='object')"
      ]
     },
     "execution_count": 80,
     "metadata": {},
     "output_type": "execute_result"
    }
   ],
   "source": [
    "# Columns of dataset\n",
    "df.columns"
   ]
  },
  {
   "cell_type": "code",
   "execution_count": 81,
   "id": "8b13741e",
   "metadata": {},
   "outputs": [
    {
     "data": {
      "image/png": "[encoded data removed]",
      "text/plain": [
       "<Figure size 1200x600 with 1 Axes>"
      ]
     },
     "metadata": {},
     "output_type": "display_data"
    }
   ],
   "source": [
    "sales = df.groupby('date')['profit_margin'].sum().reset_index()\n",
    "\n",
    "plt.figure(figsize=(12, 6))\n",
    "sns.lineplot(x='date', y='profit_margin', data=sales)\n",
    "plt.title('Total Profit Margin Over Time')\n",
    "plt.xlabel('Date')\n",
    "plt.ylabel('Profit Margin')\n",
    "plt.show()"
   ]
  },
  {
   "cell_type": "markdown",
   "id": "63bc5417",
   "metadata": {},
   "source": [
    "### CONCLUSION \n",
    "#### The sales trend remained consistent throughout the observed period, with noticeable peaks and occasional dips. This indicates regular customer activity, though certain dates show higher performance — possibly due to promotional events or holidays."
   ]
  },
  {
   "cell_type": "code",
   "execution_count": 82,
   "id": "ccd519d2",
   "metadata": {},
   "outputs": [
    {
     "data": {
      "image/png": "[encoded data removed]",
      "text/plain": [
       "<Figure size 1000x600 with 1 Axes>"
      ]
     },
     "metadata": {},
     "output_type": "display_data"
    }
   ],
   "source": [
    "# Group\n",
    "branch = df.groupby('Branch')['profit_margin'].sum().reset_index()\n",
    "\n",
    "# Sort\n",
    "top_branches = branch.sort_values(by='profit_margin', ascending=False).head(15)\n",
    "\n",
    "# Plot\n",
    "plt.figure(figsize=(10, 6))\n",
    "sns.barplot(x='Branch', y='profit_margin', data=top_branches)\n",
    "plt.title('Top 10 Branches by Total Profit Margin')\n",
    "plt.xlabel('Branch')\n",
    "plt.ylabel('Total Profit Margin')\n",
    "plt.xticks(rotation=45)\n",
    "plt.tight_layout()\n",
    "plt.show()\n"
   ]
  },
  {
   "cell_type": "markdown",
   "id": "aa748996",
   "metadata": {},
   "source": [
    "### Conclusion\n",
    "#### Among all branches, Branch **WALM009** AND **WALM030** recorded the highest overall profit margin, indicating stronger sales performance compared to others.  The other branches also performed decently, but not at the same level.\n",
    "#### The variance in profitability suggests differences in sales strategy across locations."
   ]
  },
  {
   "cell_type": "code",
   "execution_count": 83,
   "id": "76b3988c",
   "metadata": {},
   "outputs": [
    {
     "data": {
      "image/png": "[encoded data removed]",
      "text/plain": [
       "<Figure size 800x500 with 1 Axes>"
      ]
     },
     "metadata": {},
     "output_type": "display_data"
    }
   ],
   "source": [
    "cat = df.groupby('category')['quantity'].sum().reset_index()\n",
    " \n",
    "plt.figure(figsize=(8, 5))\n",
    "sns.barplot(x='category', y='quantity', data=cat)\n",
    "plt.xticks(rotation=60)\n",
    "plt.title('Total Quantity Sold by Category')\n",
    "plt.xlabel('Category')\n",
    "plt.ylabel('Total Quantity')\n",
    "plt.show()"
   ]
  },
  {
   "cell_type": "markdown",
   "id": "aba1a7f7",
   "metadata": {},
   "source": [
    "### CONCLUSION\n",
    "#### The highest-selling category by volume is **Fashion accessories** (9,653 units), while **Health and beauty** sells the least (854 units). However, just because a product sells more doesn't always mean it brings in the most profit — so it's important to also look at how much profit each item is contributing, not just the volume."
   ]
  },
  {
   "cell_type": "code",
   "execution_count": 84,
   "id": "c0d517ea",
   "metadata": {},
   "outputs": [
    {
     "data": {
      "image/png": "[encoded data removed]",
      "text/plain": [
       "<Figure size 1000x600 with 2 Axes>"
      ]
     },
     "metadata": {},
     "output_type": "display_data"
    }
   ],
   "source": [
    "data = df.pivot_table(values='profit_margin', index='City', columns='category', aggfunc='sum')\n",
    "data = data.loc[data.sum(axis=1).sort_values(ascending=False).head(10).index]\n",
    "\n",
    "plt.figure(figsize=(10, 6))\n",
    "sns.heatmap(data, annot=True, fmt='.0f', cmap='YlGnBu')\n",
    "plt.title('Profit Margin by City and Category')\n",
    "plt.show()"
   ]
  },
  {
   "cell_type": "markdown",
   "id": "436e769f",
   "metadata": {},
   "source": [
    "### CONCLUSION \n",
    "#### TThe heatmap shows that certain categories perform better in specific cities like **Home and lifestyle** and **Fashion accessories** are more profitable in Weslaco and Waxahachie, while **Electronic accessories** lead in San Antonio. In contrast, **Health and beauty** and **Food and beverages** generate lower profit margins across most cities, highlighting areas for improvement or targeted promotions."
   ]
  },
  {
   "cell_type": "code",
   "execution_count": 85,
   "id": "26f3b851",
   "metadata": {},
   "outputs": [
    {
     "data": {
      "image/png": "[encoded data removed]",
      "text/plain": [
       "<Figure size 800x500 with 1 Axes>"
      ]
     },
     "metadata": {},
     "output_type": "display_data"
    }
   ],
   "source": [
    "plt.figure(figsize=(8, 5))\n",
    "sns.histplot(df['rating'],kde=True, bins=10)\n",
    "plt.title('Distribution of Customer Ratings')\n",
    "plt.show()"
   ]
  },
  {
   "cell_type": "code",
   "execution_count": 86,
   "id": "65ed4ebd",
   "metadata": {},
   "outputs": [
    {
     "data": {
      "image/png": "[encoded data removed]",
      "text/plain": [
       "<Figure size 640x480 with 1 Axes>"
      ]
     },
     "metadata": {},
     "output_type": "display_data"
    }
   ],
   "source": [
    "df['payment_method'].value_counts().plot.pie(autopct='%1.1f%%', startangle=140)\n",
    "plt.title('Payment Method Distribution')\n",
    "plt.show()"
   ]
  },
  {
   "cell_type": "markdown",
   "id": "0ba4959b",
   "metadata": {},
   "source": [
    "### Conclusion\n",
    "#### Customers mostly prefer Credit cards (42.7%), followed by Ewallets (39.9%), while Cash (18.4%) is less common. This highlights the strong adoption of digital payments, though cash still plays a role for some customers."
   ]
  },
  {
   "cell_type": "code",
   "execution_count": 87,
   "id": "ebde8902",
   "metadata": {},
   "outputs": [
    {
     "name": "stderr",
     "output_type": "stream",
     "text": [
      "C:\\Users\\HP\\AppData\\Local\\Temp\\ipykernel_1428\\792885811.py:1: UserWarning: Could not infer format, so each element will be parsed individually, falling back to `dateutil`. To ensure parsing is consistent and as-expected, please specify a format.\n",
      "  df['hour'] = pd.to_datetime(df['time']).dt.hour\n"
     ]
    },
    {
     "data": {
      "image/png": "[encoded data removed]",
      "text/plain": [
       "<Figure size 1000x500 with 1 Axes>"
      ]
     },
     "metadata": {},
     "output_type": "display_data"
    }
   ],
   "source": [
    "df['hour'] = pd.to_datetime(df['time']).dt.hour\n",
    "hourly_sales = df.groupby('hour')['profit_margin'].sum().reset_index()\n",
    "\n",
    "plt.figure(figsize=(10, 5))\n",
    "sns.lineplot(x='hour', y='profit_margin', data=hourly_sales)\n",
    "plt.title('Hourly Profit Margin')\n",
    "plt.xlabel('Hour of Day')\n",
    "plt.ylabel('Total Profit Margin')\n",
    "plt.show()"
   ]
  },
  {
   "cell_type": "markdown",
   "id": "321fd8eb",
   "metadata": {},
   "source": [
    "### CONCLUSION\n",
    "#### Sales peak during specific hours (especially afternoons/evenings), indicating higher customer activity. Optimizing staffing and promotions during these periods can help boost profits."
   ]
  }
 ],
 "metadata": {
  "kernelspec": {
   "display_name": "base",
   "language": "python",
   "name": "python3"
  },
  "language_info": {
   "codemirror_mode": {
    "name": "ipython",
    "version": 3
   },
   "file_extension": ".py",
   "mimetype": "text/x-python",
   "name": "python",
   "nbconvert_exporter": "python",
   "pygments_lexer": "ipython3",
   "version": "3.12.4"
  }
 },
 "nbformat": 4,
 "nbformat_minor": 5
}
